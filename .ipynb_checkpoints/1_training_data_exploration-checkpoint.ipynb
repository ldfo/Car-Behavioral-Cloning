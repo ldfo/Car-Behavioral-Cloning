{
 "cells": [
  {
   "cell_type": "code",
   "execution_count": 3,
   "metadata": {
    "collapsed": false
   },
   "outputs": [],
   "source": [
    "import pandas as pd"
   ]
  },
  {
   "cell_type": "code",
   "execution_count": 6,
   "metadata": {
    "collapsed": true
   },
   "outputs": [],
   "source": [
    "data = pd.read_csv('data/driving_log.csv')\n",
    "data.columns = ['center','left','right','steering','throttle','break','speed']"
   ]
  },
  {
   "cell_type": "code",
   "execution_count": 7,
   "metadata": {
    "collapsed": false
   },
   "outputs": [
    {
     "data": {
      "text/html": [
       "<div>\n",
       "<style>\n",
       "    .dataframe thead tr:only-child th {\n",
       "        text-align: right;\n",
       "    }\n",
       "\n",
       "    .dataframe thead th {\n",
       "        text-align: left;\n",
       "    }\n",
       "\n",
       "    .dataframe tbody tr th {\n",
       "        vertical-align: top;\n",
       "    }\n",
       "</style>\n",
       "<table border=\"1\" class=\"dataframe\">\n",
       "  <thead>\n",
       "    <tr style=\"text-align: right;\">\n",
       "      <th></th>\n",
       "      <th>center</th>\n",
       "      <th>left</th>\n",
       "      <th>right</th>\n",
       "      <th>steering</th>\n",
       "      <th>throttle</th>\n",
       "      <th>break</th>\n",
       "      <th>speed</th>\n",
       "    </tr>\n",
       "  </thead>\n",
       "  <tbody>\n",
       "    <tr>\n",
       "      <th>0</th>\n",
       "      <td>IMG/center_2017_07_30_23_26_50_660.jpg</td>\n",
       "      <td>IMG/left_2017_07_30_23_26_50_660.jpg</td>\n",
       "      <td>IMG/right_2017_07_30_23_26_50_660.jpg</td>\n",
       "      <td>-0.400086</td>\n",
       "      <td>0.0</td>\n",
       "      <td>0</td>\n",
       "      <td>0.000003</td>\n",
       "    </tr>\n",
       "    <tr>\n",
       "      <th>1</th>\n",
       "      <td>IMG/center_2017_07_30_23_26_50_744.jpg</td>\n",
       "      <td>IMG/left_2017_07_30_23_26_50_744.jpg</td>\n",
       "      <td>IMG/right_2017_07_30_23_26_50_744.jpg</td>\n",
       "      <td>-0.397023</td>\n",
       "      <td>0.0</td>\n",
       "      <td>0</td>\n",
       "      <td>0.000004</td>\n",
       "    </tr>\n",
       "    <tr>\n",
       "      <th>2</th>\n",
       "      <td>IMG/center_2017_07_30_23_26_50_827.jpg</td>\n",
       "      <td>IMG/left_2017_07_30_23_26_50_827.jpg</td>\n",
       "      <td>IMG/right_2017_07_30_23_26_50_827.jpg</td>\n",
       "      <td>-0.397023</td>\n",
       "      <td>0.0</td>\n",
       "      <td>0</td>\n",
       "      <td>0.000004</td>\n",
       "    </tr>\n",
       "    <tr>\n",
       "      <th>3</th>\n",
       "      <td>IMG/center_2017_07_30_23_26_50_910.jpg</td>\n",
       "      <td>IMG/left_2017_07_30_23_26_50_910.jpg</td>\n",
       "      <td>IMG/right_2017_07_30_23_26_50_910.jpg</td>\n",
       "      <td>-0.397023</td>\n",
       "      <td>0.0</td>\n",
       "      <td>0</td>\n",
       "      <td>0.000005</td>\n",
       "    </tr>\n",
       "    <tr>\n",
       "      <th>4</th>\n",
       "      <td>IMG/center_2017_07_30_23_26_50_977.jpg</td>\n",
       "      <td>IMG/left_2017_07_30_23_26_50_977.jpg</td>\n",
       "      <td>IMG/right_2017_07_30_23_26_50_977.jpg</td>\n",
       "      <td>-0.397023</td>\n",
       "      <td>0.0</td>\n",
       "      <td>0</td>\n",
       "      <td>0.000006</td>\n",
       "    </tr>\n",
       "  </tbody>\n",
       "</table>\n",
       "</div>"
      ],
      "text/plain": [
       "                                   center  \\\n",
       "0  IMG/center_2017_07_30_23_26_50_660.jpg   \n",
       "1  IMG/center_2017_07_30_23_26_50_744.jpg   \n",
       "2  IMG/center_2017_07_30_23_26_50_827.jpg   \n",
       "3  IMG/center_2017_07_30_23_26_50_910.jpg   \n",
       "4  IMG/center_2017_07_30_23_26_50_977.jpg   \n",
       "\n",
       "                                   left  \\\n",
       "0  IMG/left_2017_07_30_23_26_50_660.jpg   \n",
       "1  IMG/left_2017_07_30_23_26_50_744.jpg   \n",
       "2  IMG/left_2017_07_30_23_26_50_827.jpg   \n",
       "3  IMG/left_2017_07_30_23_26_50_910.jpg   \n",
       "4  IMG/left_2017_07_30_23_26_50_977.jpg   \n",
       "\n",
       "                                   right  steering  throttle  break     speed  \n",
       "0  IMG/right_2017_07_30_23_26_50_660.jpg -0.400086       0.0      0  0.000003  \n",
       "1  IMG/right_2017_07_30_23_26_50_744.jpg -0.397023       0.0      0  0.000004  \n",
       "2  IMG/right_2017_07_30_23_26_50_827.jpg -0.397023       0.0      0  0.000004  \n",
       "3  IMG/right_2017_07_30_23_26_50_910.jpg -0.397023       0.0      0  0.000005  \n",
       "4  IMG/right_2017_07_30_23_26_50_977.jpg -0.397023       0.0      0  0.000006  "
      ]
     },
     "execution_count": 7,
     "metadata": {},
     "output_type": "execute_result"
    }
   ],
   "source": [
    "data.head()"
   ]
  }
 ],
 "metadata": {
  "kernelspec": {
   "display_name": "Python 3",
   "language": "python",
   "name": "python3"
  },
  "language_info": {
   "codemirror_mode": {
    "name": "ipython",
    "version": 3
   },
   "file_extension": ".py",
   "mimetype": "text/x-python",
   "name": "python",
   "nbconvert_exporter": "python",
   "pygments_lexer": "ipython3",
   "version": "3.5.2"
  }
 },
 "nbformat": 4,
 "nbformat_minor": 2
}
